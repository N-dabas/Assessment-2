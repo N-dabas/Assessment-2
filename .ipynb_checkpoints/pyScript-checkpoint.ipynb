{
 "cells": [
  {
   "cell_type": "code",
   "execution_count": 4,
   "metadata": {},
   "outputs": [],
   "source": [
    "import pandas as pd\n",
    "orderfile=pd.read_csv('./order.csv')\n",
    "execfile=pd.read_csv('./exec.csv')\n",
    "\n",
    "#Converting price into float so that arithmatic opertaions can be performed\n",
    "for i in range(len(execfile.PRICE)):\n",
    "    execfile.PRICE[i]=float(execfile.PRICE[i][1:-1])\n",
    "\n",
    "#Converting quantity to int so that arithmatic opertaions can be performed\n",
    "for i in range(len(execfile.QUANTITY)):\n",
    "    execfile.QUANTITY[i]=int(execfile.QUANTITY[i][1:-1])\n",
    "\n",
    "execfile=execfile.groupby(['USER','PRICE']).sum().reset_index()\n",
    "\n",
    "execfile.rename(columns={'PRICE':'Price'}, inplace=True)\n",
    "\n",
    "df2=pd.merge(orderfile, execfile, on=['USER', 'Price'])\n",
    "\n",
    "df2['Qty_Unexecuted']=df2['Qty']-df2['QUANTITY']\n",
    "\n",
    "#Selecting only relevant columns for output file\n",
    "final=df2[['USER', 'Price', 'ORDER REF', 'Qty_Unexecuted']]\n",
    "\n",
    "#Saving the final df to csv\n",
    "final.to_csv('./output.csv', sep=',', encoding='utf-8', index=False)"
   ]
  },
  {
   "cell_type": "code",
   "execution_count": null,
   "metadata": {},
   "outputs": [],
   "source": []
  }
 ],
 "metadata": {
  "kernelspec": {
   "display_name": "Python 3",
   "language": "python",
   "name": "python3"
  },
  "language_info": {
   "codemirror_mode": {
    "name": "ipython",
    "version": 3
   },
   "file_extension": ".py",
   "mimetype": "text/x-python",
   "name": "python",
   "nbconvert_exporter": "python",
   "pygments_lexer": "ipython3",
   "version": "3.6.4"
  }
 },
 "nbformat": 4,
 "nbformat_minor": 2
}
